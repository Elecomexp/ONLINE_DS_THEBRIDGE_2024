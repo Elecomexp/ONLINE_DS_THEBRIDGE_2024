{
 "cells": [
  {
   "cell_type": "markdown",
   "metadata": {
    "id": "vigJnuAMSU4x"
   },
   "source": [
    "![TheBridge_logo_RGB_color.jpg](attachment:TheBridge_logo_RGB_color.jpg)"
   ]
  },
  {
   "cell_type": "markdown",
   "metadata": {
    "id": "2xmnwM17SU4y"
   },
   "source": [
    "![ejercicios.png](attachment:ejercicios.png)"
   ]
  },
  {
   "cell_type": "markdown",
   "metadata": {
    "id": "liorA-1ZSU4y"
   },
   "source": [
    "# Ejercicios Clases y Objetos"
   ]
  },
  {
   "cell_type": "markdown",
   "metadata": {
    "id": "5xXUz5l9SU4z"
   },
   "source": [
    "## Ejercicio 1\n",
    "Somos una empresa que tiene varias tiendas de electrodomesticos. Necesitamos un programa para manejar las tiendas, ver las ventas que han tenido, cuántos empleados hay, etc... Para ello vamos a modelizar la tienda en una clase, que tendrá las siguientes características:\n",
    "* Nombre clase: \"Tienda\"\n",
    "* Atributos comunes:\n",
    "    * Tipo: \"Electrodomésticos\"\n",
    "    * Abierta: True\n",
    "* Atributos propios de cada tienda:\n",
    "    * Nombre - String\n",
    "    * Dirección - String\n",
    "    * Número de empleados - int\n",
    "    * Ventas ultimos 3 meses - Lista de 3 numeros\n",
    "* Método para calcular las ventas de todos los meses, que devuelva un numero con todas las ventas.\n",
    "* Método que calcula la media de ventas de los ultimos meses, por empleado\n",
    "* Método que devuelve en un string el nombre de la tienda, junto con su dirección.\n",
    "* Método que obtiene las ventas del último mes.\n",
    "* Método para dar una proyección de las ventas en caso de haber invertido X dinero en marketing en esa tienda. Siendo X el parámetro de entrada. Si X es menor de 1000, las ventas de los ultimos 3 meses hubiesen sido de (1.2 x ventas), si es mayor o igual de 1000, las ventas hubiesen sido de (1.5 x venta). El método reescribe el atributo de ventas en los últimos 3 meses, y además devuelve las ventas con el aumento.\n",
    "\n",
    "Se pide:\n",
    "1. Implementar la clase \"Tienda\"\n",
    "2. Crear tres tiendas con datos inventados\n",
    "3. Comprueba en al menos una de ellas, todo lo implementado en la clase tienda (sus atributos, media de ventas, ventas/empleado...)\n",
    "3. Calcular las ventas del último mes de todas las tiendas. Para ello usa el bucle `for`\n",
    "4. Imprime por pantalla los nombres de las tiendas cuya dirección lleve el string \"Avenida\"\n",
    "5. Seguro que ya has hecho este apartado... Documenta la clase :)"
   ]
  },
  {
   "cell_type": "code",
   "execution_count": 41,
   "metadata": {
    "id": "5cLQcLxfSU4z"
   },
   "outputs": [],
   "source": [
    "class Tienda:\n",
    "    '''Clase para instanciar tiendas, principalmente de electrodomésticos'''\n",
    "\n",
    "    tipo = 'Electrodomésticos'\n",
    "    abierta = True\n",
    "    \n",
    "    def __init__(self, nombre, direccion, empleados, ventas3meses=[0,0,0]):\n",
    "        '''\n",
    "        Nombre - String\n",
    "        Dirección - String\n",
    "        Número de empleados - int\n",
    "        Ventas ultimos 3 meses - Lista de 3 numeros\n",
    "        '''\n",
    "        self.nombre = nombre\n",
    "        self.direccion = direccion\n",
    "        self.empleados = empleados\n",
    "        self.ventas3meses = ventas3meses\n",
    "\n",
    "    def ventas(self):\n",
    "        '''Método para calcular las ventas de todos los meses, que devuelva un numero con todas las ventas.'''\n",
    "        return sum(self.ventas3meses)\n",
    "\n",
    "    def mediaEmpleado(self):\n",
    "        '''Método que calcula la media de ventas de los ultimos meses, por empleado'''\n",
    "        return round(sum(self.ventas3meses)/self.empleados, 2)\n",
    "\n",
    "    def nombreCiudad(self):\n",
    "        '''Método que devuelve en un string el nombre de la tienda, junto con su dirección.'''\n",
    "        return '\"' + self.nombre + '\" está en ' + self.direccion\n",
    "\n",
    "    def ultimasVentas(self):\n",
    "        return self.ventas3meses[-1]\n",
    "\n",
    "    def proyeccion(self,dinero_invertido):\n",
    "        '''Método para dar una proyección de las ventas en caso de haber invertido X dinero en marketing en esa tienda.\n",
    "        Siendo X el parámetro de entrada. Si X es menor de 1000, las ventas de los ultimos 3 meses hubiesen sido de (1.2 x ventas),\n",
    "        si es mayor o igual de 1000, las ventas hubiesen sido de (1.5 x venta). El método reescribe el atributo de ventas \n",
    "        en los últimos 3 meses, y además devuelve las ventas con el aumento.'''\n",
    "        if dinero_invertido < 1000:\n",
    "            self.ventas3meses = [venta * 1.2 for venta in self.ventas3meses]\n",
    "            return self.ventas3meses, sum(self.ventas3meses)\n",
    "        elif dinero_invertido >= 1000:\n",
    "            self.ventas3meses = [venta * 1.5 for venta in self.ventas3meses]\n",
    "            return self.ventas3meses, sum(self.ventas3meses)"
   ]
  },
  {
   "cell_type": "code",
   "execution_count": 42,
   "metadata": {},
   "outputs": [
    {
     "name": "stdout",
     "output_type": "stream",
     "text": [
      "{'nombre': 'Electrodom Bilbao', 'direccion': 'Calle Elkano 3, Bilbao', 'empleados': 5, 'ventas3meses': [15000, 17000, 18500]}\n",
      "50500\n",
      "10100.0\n",
      "\"Electrodom Bilbao\" está en Calle Elkano 3, Bilbao\n",
      "18500\n",
      "([22500.0, 25500.0, 27750.0], 75750.0)\n",
      "{'nombre': 'Electrodom Bilbao', 'direccion': 'Calle Elkano 3, Bilbao', 'empleados': 5, 'ventas3meses': [22500.0, 25500.0, 27750.0]}\n",
      "---\n",
      "Venta en Electrodom Tarragona :  13500\n",
      "Venta en Electrodom Madrid :  25000\n",
      "Venta en Electrodom Bilbao :  27750.0\n",
      "---\n",
      "Electrodom Tarragona está en una Avenida\n"
     ]
    }
   ],
   "source": [
    "eltro_tgn = Tienda('Electrodom Tarragona','Avenida Libertad 22, Tarragona', 3, [12000, 13000, 13500])\n",
    "eltro_mad = Tienda('Electrodom Madrid','Gran Vía 7, Madrid', 7, [0, 18000, 25000])\n",
    "eltro_bio = Tienda('Electrodom Bilbao','Calle Elkano 3, Bilbao', 5, [15000, 17000, 18500])\n",
    "\n",
    "# Comprobar todo lo implementado en una de las tiendas\n",
    "print(vars(eltro_bio))\n",
    "print(eltro_bio.ventas())\n",
    "print(eltro_bio.mediaEmpleado())\n",
    "print(eltro_bio.nombreCiudad())\n",
    "print(eltro_bio.ultimasVentas())\n",
    "print(eltro_bio.proyeccion(1500))\n",
    "print(vars(eltro_bio))\n",
    "print('---')\n",
    "\n",
    "# Calcular las ventas del último mes de todas las tiendas\n",
    "list_eltro = [eltro_tgn, eltro_mad, eltro_bio]\n",
    "for tienda in list_eltro:\n",
    "    print('Venta en', tienda.nombre, ': ', tienda.ultimasVentas())\n",
    "print('---')\n",
    "\n",
    "# Imprime por pantalla los nombres de las tiendas cuya dirección lleve el string \"Avenida\"\n",
    "for tienda in list_eltro:\n",
    "    if 'Avenida' in tienda.direccion:\n",
    "        print(tienda.nombre, 'está en una Avenida')"
   ]
  },
  {
   "cell_type": "markdown",
   "metadata": {
    "id": "WEBq7EpsSU40"
   },
   "source": [
    "## Ejercicio 2\n",
    "En este ejercicio vamos a implementar una clase *Perro* en Python. La clase tiene las siguientes características:\n",
    "* Cosas que sabemos seguro que tiene un perro\n",
    "    * Tiene 4 patas\n",
    "    * 2 orejas\n",
    "    * 2 ojos\n",
    "    * Una velocidad de 0. Por defecto, el perro está parado\n",
    "* Cuando se inicialice:\n",
    "    * El perro será de una determinada raza\n",
    "    * Por defecto tendrá pelo \"Marrón\", a no ser que se diga lo contrario.\n",
    "    * Por defecto no tendrá dueño, a no ser que se diga lo contrario.\n",
    "    \n",
    "* Dispondrá también de un método llamado andar, que tiene un argumento de entrada (aumento_velocidad). Este valor se le sumará a la velocidad que ya llevaba el perro.\n",
    "* Necesita otro método (parar), donde pondremos la velocidad a 0.\n",
    "* Otro método llamado \"ladrar\", que tendrá un argumento de entrada, y la salida será el siguiente string: \"GUAU!\" + el argumento de entrada.\n",
    "\n",
    "\n",
    "Se pide:\n",
    "* Implementa la clase *Perro*\n",
    "* Crea un objeto de tipo *Perro*, sin dueño\n",
    "* Comprueba que están bien todos sus atributos\n",
    "* Prueba que ande, y comprueba su velocidad\n",
    "* Páralo\n",
    "* Documenta la clase *Perro*"
   ]
  },
  {
   "cell_type": "code",
   "execution_count": 63,
   "metadata": {
    "id": "DpEWvbwGSU40"
   },
   "outputs": [],
   "source": [
    "class Perro:\n",
    "    '''\n",
    "    patas, orejas, ojos : int\n",
    "    velocidad : float\n",
    "    '''\n",
    "    \n",
    "    patas = 4\n",
    "    orejas = 2\n",
    "    ojos = 2\n",
    "    velocidad = 0\n",
    "    \n",
    "    def __init__(self, raza, pelo = 'Marrón', duenyo = False):\n",
    "        '''\n",
    "        raza, pelo : string\n",
    "        duenyo : bool\n",
    "        '''\n",
    "        self.raza = raza\n",
    "        self.pelo = pelo\n",
    "        self.duenyo = duenyo\n",
    "\n",
    "    def andar(self, aumento_velocidad):\n",
    "        ''' Incrementa la velocidad del perro con \"aumento_velocidad\" en km/h '''\n",
    "        self.velocidad += aumento_velocidad\n",
    "\n",
    "    def parar(self):\n",
    "        ''' Redefine la velocidad del perro a 0 (quieto) '''\n",
    "        self.velocidad = 0\n",
    "\n",
    "    def ladrar(self, arg):\n",
    "        ''' La salida será el string: \"GUAU!\" + el argumento de entrada '''\n",
    "        return 'GUAU! ' + arg"
   ]
  },
  {
   "cell_type": "code",
   "execution_count": 66,
   "metadata": {},
   "outputs": [
    {
     "name": "stdout",
     "output_type": "stream",
     "text": [
      "{'raza': 'Bulldog', 'pelo': 'Blanco', 'duenyo': False}\n",
      "La velocidad del perro es: 1.3 km/h\n",
      "La velocidad del perro es: 1.8 km/h\n",
      "La velocidad del perro es: 0 km/h\n"
     ]
    },
    {
     "data": {
      "text/plain": [
       "'GUAU! Grrrr'"
      ]
     },
     "execution_count": 66,
     "metadata": {},
     "output_type": "execute_result"
    }
   ],
   "source": [
    "bulldog_1 = Perro('Bulldog', 'Blanco')\n",
    "\n",
    "# Comprobar sus atributos\n",
    "print(vars(bulldog_1))\n",
    "\n",
    "# Ordenar andar y comprobar su velocidad\n",
    "bulldog_1.andar(1.3)\n",
    "print('La velocidad del perro es:', bulldog_1.velocidad, 'km/h')\n",
    "bulldog_1.andar(0.5)\n",
    "print('La velocidad del perro es:', bulldog_1.velocidad, 'km/h')\n",
    "\n",
    "# Ordenar andar y comprobar su velocidad\n",
    "bulldog_1.parar()\n",
    "print('La velocidad del perro es:', bulldog_1.velocidad, 'km/h')\n",
    "\n",
    "# Ladrar\n",
    "bulldog_1.ladrar('Grrrr')"
   ]
  },
  {
   "cell_type": "code",
   "execution_count": null,
   "metadata": {},
   "outputs": [],
   "source": []
  }
 ],
 "metadata": {
  "colab": {
   "provenance": []
  },
  "kernelspec": {
   "display_name": "Python 3 (ipykernel)",
   "language": "python",
   "name": "python3"
  },
  "language_info": {
   "codemirror_mode": {
    "name": "ipython",
    "version": 3
   },
   "file_extension": ".py",
   "mimetype": "text/x-python",
   "name": "python",
   "nbconvert_exporter": "python",
   "pygments_lexer": "ipython3",
   "version": "3.11.7"
  }
 },
 "nbformat": 4,
 "nbformat_minor": 4
}
